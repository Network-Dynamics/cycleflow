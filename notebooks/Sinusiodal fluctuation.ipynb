{
 "metadata": {
  "name": "",
  "signature": "sha256:5bf06e010d9a7257ba820751585e0a20b68c0e8bc427d706589757a15c33a698"
 },
 "nbformat": 3,
 "nbformat_minor": 0,
 "worksheets": [
  {
   "cells": [
    {
     "cell_type": "code",
     "collapsed": false,
     "input": [
      "import networkx as nx\n",
      "import matplotlib.pyplot as plt\n",
      "%matplotlib inline"
     ],
     "language": "python",
     "metadata": {},
     "outputs": [],
     "prompt_number": 1
    },
    {
     "cell_type": "markdown",
     "metadata": {},
     "source": [
      "###Set up the network"
     ]
    },
    {
     "cell_type": "code",
     "collapsed": false,
     "input": [
      "edges=np.loadtxt('../data/britgrid/edge_list.dat', dtype='int')"
     ],
     "language": "python",
     "metadata": {},
     "outputs": [],
     "prompt_number": 4
    },
    {
     "cell_type": "code",
     "collapsed": false,
     "input": [
      "generators=np.loadtxt('../data/britgrid/gen_list.dat', dtype='int')"
     ],
     "language": "python",
     "metadata": {},
     "outputs": [],
     "prompt_number": 5
    },
    {
     "cell_type": "code",
     "collapsed": false,
     "input": [
      "G=nx.Graph()"
     ],
     "language": "python",
     "metadata": {},
     "outputs": [],
     "prompt_number": 6
    },
    {
     "cell_type": "code",
     "collapsed": false,
     "input": [
      "G.add_edges_from(edges)"
     ],
     "language": "python",
     "metadata": {},
     "outputs": [],
     "prompt_number": 7
    },
    {
     "cell_type": "code",
     "collapsed": false,
     "input": [
      "bets=nx.edge_betweenness_centrality(G)"
     ],
     "language": "python",
     "metadata": {},
     "outputs": [],
     "prompt_number": 16
    },
    {
     "cell_type": "code",
     "collapsed": false,
     "input": [
      "with open(\"britgrid_centralities.dat\", 'w') as f:\n",
      "    for u,v in bets.keys():\n",
      "        print(u,v,bets[(u,v)], sep='\\t', file=f)\n",
      "        "
     ],
     "language": "python",
     "metadata": {},
     "outputs": [],
     "prompt_number": 18
    },
    {
     "cell_type": "code",
     "collapsed": false,
     "input": [
      "cat britgrid_centralities.dat"
     ],
     "language": "python",
     "metadata": {},
     "outputs": [
      {
       "output_type": "stream",
       "stream": "stdout",
       "text": [
        "34\t35\t0.16001462591222007\r\n",
        "15\t16\t0.029723000311235613\r\n",
        "114\t116\t0.019578498065893023\r\n",
        "11\t16\t0.05086402250617935\r\n",
        "75\t78\t0.019316059757236225\r\n",
        "69\t70\t0.044322062158196625\r\n",
        "60\t61\t0.1475194737385789\r\n",
        "92\t109\t0.09556031503510494\r\n",
        "61\t81\t0.10404911041156713\r\n",
        "62\t65\t0.09378818169176964\r\n",
        "41\t43\t0.13217756099346964\r\n",
        "103\t104\t0.012605042016806721\r\n",
        "96\t97\t0.00919634520474857\r\n",
        "44\t46\t0.11339868238533586\r\n",
        "38\t60\t0.04821801781638654\r\n",
        "66\t67\t0.016666666666666666\r\n",
        "83\t84\t0.02453436930327686\r\n",
        "71\t73\t0.006751867413632114\r\n",
        "70\t72\t0.059743564092303594\r\n",
        "85\t86\t0.016666666666666666\r\n",
        "5\t7\t0.04033613445378151\r\n",
        "57\t58\t0.010639033391134234\r\n",
        "84\t85\t0.022953959361522384\r\n",
        "81\t90\t0.06334398196638678\r\n",
        "50\t51\t0.056013405362144816\r\n",
        "59\t60\t0.10187648593419725\r\n",
        "42\t43\t0.00014005602240896358\r\n",
        "31\t34\t0.15273171274695405\r\n",
        "63\t82\t0.014173272844491325\r\n",
        "36\t37\t0.04651427237561693\r\n",
        "64\t80\t0.06364976663151815\r\n",
        "53\t69\t0.03964085634253699\r\n",
        "11\t14\t0.016666666666666666\r\n",
        "49\t50\t0.13928477093413663\r\n",
        "25\t26\t0.0065949713218620785\r\n",
        "39\t62\t0.10084003526148033\r\n",
        "47\t48\t0.033684473789515806\r\n",
        "98\t100\t0.04467853808189946\r\n",
        "87\t89\t0.005762082610822107\r\n",
        "97\t99\t0.001422235560891023\r\n",
        "72\t75\t0.009509803921568628\r\n",
        "21\t23\t0.11367118785597936\r\n",
        "41\t42\t0.13217756099346964\r\n",
        "38\t39\t0.005257421150278292\r\n",
        "43\t44\t0.13983395688515968\r\n",
        "112\t113\t0.01130441065315015\r\n",
        "27\t28\t0.10764301059942835\r\n",
        "64\t77\t0.07223806010055804\r\n",
        "3\t4\t0.008823529411764706\r\n",
        "118\t119\t0.016666666666666666\r\n",
        "5\t6\t0.016666666666666666\r\n",
        "104\t105\t0.0043417366946778705\r\n",
        "31\t32\t0.03305322128851541\r\n",
        "18\t19\t0.0025210084033613443\r\n",
        "116\t118\t0.042158196611978116\r\n",
        "36\t38\t0.0434074420709369\r\n",
        "108\t109\t0.01568627450980392\r\n",
        "4\t5\t0.008683473389355741\r\n",
        "35\t37\t0.07063233202691932\r\n",
        "91\t92\t0.11860463075871294\r\n",
        "93\t94\t0.018948996265172734\r\n",
        "56\t58\t0.03347427860032901\r\n",
        "21\t40\t0.24950918361158916\r\n",
        "87\t88\t0.03221499710995508\r\n",
        "81\t82\t0.021423839737915368\r\n",
        "105\t106\t0.020448179271708684\r\n",
        "102\t103\t0.028711484593837534\r\n",
        "102\t106\t0.026332997845602883\r\n",
        "88\t89\t0.024236712114039514\r\n",
        "57\t59\t0.027441087546129554\r\n",
        "40\t41\t0.2567920967768553\r\n",
        "92\t93\t0.06165460196983098\r\n",
        "107\t108\t0.000980392156862745\r\n",
        "110\t111\t0.025105486639100085\r\n",
        "3\t7\t0.056302521008403356\r\n",
        "80\t81\t0.057657846401049546\r\n",
        "52\t53\t0.010924369747899159\r\n",
        "55\t56\t0.05471144013160821\r\n",
        "73\t75\t0.01946545284780578\r\n",
        "35\t36\t0.09797862130515778\r\n",
        "23\t25\t0.07925163771040358\r\n",
        "36\t39\t0.10015174479377803\r\n",
        "114\t115\t0.034599061846961\r\n",
        "109\t110\t0.04009614957093949\r\n",
        "80\t91\t0.09052621714087775\r\n",
        "82\t83\t0.017948846205148725\r\n",
        "93\t100\t0.05460297576379301\r\n",
        "7\t8\t0.11078431372549019\r\n",
        "21\t24\t0.02318436851864927\r\n",
        "61\t63\t0.031232366684047365\r\n",
        "106\t107\t0.023966232957829594\r\n",
        "88\t90\t0.045120363802086484\r\n",
        "8\t9\t0.010084033613445377\r\n",
        "37\t47\t0.13501966411135954\r\n",
        "76\t77\t0.13278261451601378\r\n",
        "12\t13\t0.016666666666666666\r\n",
        "68\t69\t0.01483460050686941\r\n",
        "111\t112\t0.012080276555066471\r\n",
        "51\t53\t0.05311891423235961\r\n",
        "16\t17\t0.016666666666666666\r\n",
        "118\t120\t0.017435102581337545\r\n",
        "53\t55\t0.05473522742430301\r\n",
        "73\t74\t0.016666666666666666\r\n",
        "100\t101\t0.07520810344339755\r\n",
        "18\t21\t0.11494743364841402\r\n",
        "23\t24\t0.001680672268907563\r\n",
        "90\t91\t0.04766758261876897\r\n",
        "77\t78\t0.12790287147965512\r\n",
        "8\t22\t0.11540616246498599\r\n",
        "53\t66\t0.03432506335867679\r\n",
        "24\t25\t0.01895293084554084\r\n",
        "45\t50\t0.18273981962027777\r\n",
        "73\t76\t0.03282796451914099\r\n",
        "49\t55\t0.16407768810100334\r\n",
        "55\t76\t0.17196462065180132\r\n",
        "66\t68\t0.007514339068960922\r\n",
        "87\t115\t0.04379607398514961\r\n",
        "28\t29\t0.016666666666666666\r\n",
        "46\t47\t0.11919700171306696\r\n",
        "22\t23\t0.1543336121032199\r\n",
        "95\t96\t0.021147792450313473\r\n",
        "32\t33\t0.016666666666666666\r\n",
        "19\t20\t0.016666666666666666\r\n",
        "79\t94\t0.02730567226890755\r\n",
        "42\t44\t0.13983395688515968\r\n",
        "37\t59\t0.12235412143284108\r\n",
        "97\t98\t0.014184673869547826\r\n",
        "89\t120\t0.020101502474628198\r\n",
        "79\t95\t0.035853674803254645\r\n",
        "83\t88\t0.0402408738797559\r\n",
        "2\t3\t0.03305322128851541\r\n",
        "70\t76\t0.029865446178471387\r\n",
        "51\t52\t0.005742296918767506\r\n",
        "84\t87\t0.03127628829309502\r\n",
        "53\t54\t0.016666666666666666\r\n",
        "58\t61\t0.042479325063358664\r\n",
        "61\t64\t0.08457968079137133\r\n",
        "30\t31\t0.13004263711670191\r\n",
        "19\t21\t0.03053221288515406\r\n",
        "79\t80\t0.05299161331199151\r\n",
        "65\t85\t0.03815203859321506\r\n",
        "10\t11\t0.01722256592354632\r\n",
        "113\t114\t0.02488984482681961\r\n",
        "9\t22\t0.02664920500704816\r\n",
        "25\t27\t0.0920531079717107\r\n",
        "98\t99\t0.015244431105775643\r\n",
        "1\t2\t0.016666666666666666\r\n",
        "70\t71\t0.010755135387488318\r\n",
        "28\t30\t0.12243292656581492\r\n",
        "116\t117\t0.016666666666666666\r\n",
        "56\t57\t0.019883286647992528\r\n",
        "16\t18\t0.10318272776606108\r\n",
        "72\t79\t0.06093003868213952\r\n",
        "107\t109\t0.03459581812522989\r\n",
        "101\t102\t0.06106244518009223\r\n",
        "9\t10\t0.022447524334779253\r\n",
        "65\t83\t0.05695555975410567\r\n",
        "62\t63\t0.029707360216814013\r\n",
        "44\t45\t0.18087240598815826\r\n",
        "11\t12\t0.019436663554310608\r\n",
        "48\t49\t0.03305622248899559\r\n",
        "12\t15\t0.015390600684718337\r\n",
        "26\t27\t0.010071695344804588\r\n",
        "78\t100\t0.1343757939819894\r\n",
        "92\t118\t0.07732502369139377\r\n"
       ]
      }
     ],
     "prompt_number": 19
    },
    {
     "cell_type": "code",
     "collapsed": false,
     "input": [
      "generators"
     ],
     "language": "python",
     "metadata": {},
     "outputs": [
      {
       "metadata": {},
       "output_type": "pyout",
       "prompt_number": 8,
       "text": [
        "array([ 5, 16, 25, 35, 44, 53, 64, 75, 88, 92])"
       ]
      }
     ],
     "prompt_number": 8
    },
    {
     "cell_type": "code",
     "collapsed": false,
     "input": [
      "[G.nodes().index(gn) for gn in generators]"
     ],
     "language": "python",
     "metadata": {},
     "outputs": [
      {
       "metadata": {},
       "output_type": "pyout",
       "prompt_number": 9,
       "text": [
        "[4, 15, 24, 34, 43, 52, 63, 74, 87, 91]"
       ]
      }
     ],
     "prompt_number": 9
    },
    {
     "cell_type": "code",
     "collapsed": false,
     "input": [
      "P_gen=11\n",
      "P_con=-1\n",
      "K_gen_edges=450\n",
      "K_others=45\n"
     ],
     "language": "python",
     "metadata": {},
     "outputs": [],
     "prompt_number": 10
    },
    {
     "cell_type": "code",
     "collapsed": false,
     "input": [
      "Pvec=np.ones(G.number_of_nodes())"
     ],
     "language": "python",
     "metadata": {},
     "outputs": [],
     "prompt_number": 11
    },
    {
     "cell_type": "code",
     "collapsed": false,
     "input": [
      "Pvec*=P_con"
     ],
     "language": "python",
     "metadata": {},
     "outputs": [],
     "prompt_number": 12
    },
    {
     "cell_type": "code",
     "collapsed": false,
     "input": [
      "Pvec[[G.nodes().index(gn) for gn in generators]]=P_gen"
     ],
     "language": "python",
     "metadata": {},
     "outputs": [],
     "prompt_number": 11
    },
    {
     "cell_type": "code",
     "collapsed": false,
     "input": [
      "Pvec"
     ],
     "language": "python",
     "metadata": {},
     "outputs": [
      {
       "metadata": {},
       "output_type": "pyout",
       "prompt_number": 12,
       "text": [
        "array([ -1.,  -1.,  -1.,  -1.,  11.,  -1.,  -1.,  -1.,  -1.,  -1.,  -1.,\n",
        "        -1.,  -1.,  -1.,  -1.,  11.,  -1.,  -1.,  -1.,  -1.,  -1.,  -1.,\n",
        "        -1.,  -1.,  11.,  -1.,  -1.,  -1.,  -1.,  -1.,  -1.,  -1.,  -1.,\n",
        "        -1.,  11.,  -1.,  -1.,  -1.,  -1.,  -1.,  -1.,  -1.,  -1.,  11.,\n",
        "        -1.,  -1.,  -1.,  -1.,  -1.,  -1.,  -1.,  -1.,  11.,  -1.,  -1.,\n",
        "        -1.,  -1.,  -1.,  -1.,  -1.,  -1.,  -1.,  -1.,  11.,  -1.,  -1.,\n",
        "        -1.,  -1.,  -1.,  -1.,  -1.,  -1.,  -1.,  -1.,  11.,  -1.,  -1.,\n",
        "        -1.,  -1.,  -1.,  -1.,  -1.,  -1.,  -1.,  -1.,  -1.,  -1.,  11.,\n",
        "        -1.,  -1.,  -1.,  11.,  -1.,  -1.,  -1.,  -1.,  -1.,  -1.,  -1.,\n",
        "        -1.,  -1.,  -1.,  -1.,  -1.,  -1.,  -1.,  -1.,  -1.,  -1.,  -1.,\n",
        "        -1.,  -1.,  -1.,  -1.,  -1.,  -1.,  -1.,  -1.,  -1.,  -1.])"
       ]
      }
     ],
     "prompt_number": 12
    },
    {
     "cell_type": "code",
     "collapsed": false,
     "input": [
      "for u,v in G.edges_iter():\n",
      "    G[u][v]['weight']=K_others\n",
      "    G[v][u]['weight']=K_others"
     ],
     "language": "python",
     "metadata": {},
     "outputs": [],
     "prompt_number": 13
    },
    {
     "cell_type": "code",
     "collapsed": false,
     "input": [
      "for gen in generators:\n",
      "    neighbours=G.neighbors(gen)\n",
      "    for nei in neighbours:\n",
      "        G[gen][nei]={'weight':K_gen_edges}    \n",
      "        G[nei][gen]={'weight':K_gen_edges}    #Is there no clean way to change weight of an edge in networkx?"
     ],
     "language": "python",
     "metadata": {},
     "outputs": [],
     "prompt_number": 14
    },
    {
     "cell_type": "code",
     "collapsed": false,
     "input": [
      "G[4]"
     ],
     "language": "python",
     "metadata": {},
     "outputs": [
      {
       "metadata": {},
       "output_type": "pyout",
       "prompt_number": 15,
       "text": [
        "{3: {'weight': 45}, 5: {'weight': 450}}"
       ]
      }
     ],
     "prompt_number": 15
    },
    {
     "cell_type": "code",
     "collapsed": false,
     "input": [
      "Pvec"
     ],
     "language": "python",
     "metadata": {},
     "outputs": [
      {
       "metadata": {},
       "output_type": "pyout",
       "prompt_number": 16,
       "text": [
        "array([ -1.,  -1.,  -1.,  -1.,  11.,  -1.,  -1.,  -1.,  -1.,  -1.,  -1.,\n",
        "        -1.,  -1.,  -1.,  -1.,  11.,  -1.,  -1.,  -1.,  -1.,  -1.,  -1.,\n",
        "        -1.,  -1.,  11.,  -1.,  -1.,  -1.,  -1.,  -1.,  -1.,  -1.,  -1.,\n",
        "        -1.,  11.,  -1.,  -1.,  -1.,  -1.,  -1.,  -1.,  -1.,  -1.,  11.,\n",
        "        -1.,  -1.,  -1.,  -1.,  -1.,  -1.,  -1.,  -1.,  11.,  -1.,  -1.,\n",
        "        -1.,  -1.,  -1.,  -1.,  -1.,  -1.,  -1.,  -1.,  11.,  -1.,  -1.,\n",
        "        -1.,  -1.,  -1.,  -1.,  -1.,  -1.,  -1.,  -1.,  11.,  -1.,  -1.,\n",
        "        -1.,  -1.,  -1.,  -1.,  -1.,  -1.,  -1.,  -1.,  -1.,  -1.,  11.,\n",
        "        -1.,  -1.,  -1.,  11.,  -1.,  -1.,  -1.,  -1.,  -1.,  -1.,  -1.,\n",
        "        -1.,  -1.,  -1.,  -1.,  -1.,  -1.,  -1.,  -1.,  -1.,  -1.,  -1.,\n",
        "        -1.,  -1.,  -1.,  -1.,  -1.,  -1.,  -1.,  -1.,  -1.,  -1.])"
       ]
      }
     ],
     "prompt_number": 16
    },
    {
     "cell_type": "markdown",
     "metadata": {},
     "source": [
      "###pickle it"
     ]
    },
    {
     "cell_type": "code",
     "collapsed": false,
     "input": [
      "import cPickle as pickle"
     ],
     "language": "python",
     "metadata": {},
     "outputs": [],
     "prompt_number": 17
    },
    {
     "cell_type": "code",
     "collapsed": false,
     "input": [
      "nx.write_gpickle(G, \"britishgrid.gpickle\")"
     ],
     "language": "python",
     "metadata": {},
     "outputs": [],
     "prompt_number": 18
    },
    {
     "cell_type": "code",
     "collapsed": false,
     "input": [
      "f=open(\"Pvec.pickle\",'w')\n",
      "pickle.dump(Pvec, f)\n",
      "f.close()"
     ],
     "language": "python",
     "metadata": {},
     "outputs": [],
     "prompt_number": 19
    },
    {
     "cell_type": "markdown",
     "metadata": {},
     "source": [
      "### Solve ODE"
     ]
    },
    {
     "cell_type": "code",
     "collapsed": false,
     "input": [
      "import kuramoto"
     ],
     "language": "python",
     "metadata": {},
     "outputs": [],
     "prompt_number": 20
    },
    {
     "cell_type": "code",
     "collapsed": false,
     "input": [
      "allnodes=G.nodes()\n",
      "alledges=G.edges()"
     ],
     "language": "python",
     "metadata": {},
     "outputs": [],
     "prompt_number": 21
    },
    {
     "cell_type": "code",
     "collapsed": false,
     "input": [
      "M=np.array(nx.incidence_matrix(G,oriented=True))"
     ],
     "language": "python",
     "metadata": {},
     "outputs": [],
     "prompt_number": 22
    },
    {
     "cell_type": "code",
     "collapsed": false,
     "input": [
      "Mw=np.array(nx.incidence_matrix(G,oriented=True,weight='weight'))"
     ],
     "language": "python",
     "metadata": {},
     "outputs": [],
     "prompt_number": 23
    },
    {
     "cell_type": "code",
     "collapsed": false,
     "input": [
      "(np.dot(Mw,M.T)==nx.laplacian_matrix(G)).all()"
     ],
     "language": "python",
     "metadata": {},
     "outputs": [
      {
       "metadata": {},
       "output_type": "pyout",
       "prompt_number": 24,
       "text": [
        "True"
       ]
      }
     ],
     "prompt_number": 24
    },
    {
     "cell_type": "code",
     "collapsed": false,
     "input": [
      "sol=kuramoto.try_find_fps(1,M,Mw,Pvec,tmax=10000)"
     ],
     "language": "python",
     "metadata": {},
     "outputs": [],
     "prompt_number": 25
    },
    {
     "cell_type": "code",
     "collapsed": false,
     "input": [
      "finalthetas=sol[0]"
     ],
     "language": "python",
     "metadata": {},
     "outputs": [],
     "prompt_number": 26
    },
    {
     "cell_type": "markdown",
     "metadata": {},
     "source": [
      "### Compare with xiaozhu"
     ]
    },
    {
     "cell_type": "code",
     "collapsed": false,
     "input": [
      "xfp=np.loadtxt('data/britgrid/FP.dat',dtype=float)"
     ],
     "language": "python",
     "metadata": {},
     "outputs": [],
     "prompt_number": 27
    },
    {
     "cell_type": "code",
     "collapsed": false,
     "input": [
      "xthetas=xfp[:,1]"
     ],
     "language": "python",
     "metadata": {},
     "outputs": [],
     "prompt_number": 28
    },
    {
     "cell_type": "code",
     "collapsed": false,
     "input": [
      "Pvec-np.dot(Mw, np.sin(np.dot(M.T, xthetas)))"
     ],
     "language": "python",
     "metadata": {},
     "outputs": [
      {
       "metadata": {},
       "output_type": "pyout",
       "prompt_number": 29,
       "text": [
        "array([ -2.32224842e-06,  -1.69595681e-06,   9.89076070e-06,\n",
        "         2.62644369e-04,  -3.65797455e-04,  -1.00822798e-04,\n",
        "         1.98744676e-04,   1.20463028e-05,   2.29366912e-05,\n",
        "        -5.19473798e-05,  -1.08191987e-04,  -3.80576879e-06,\n",
        "        -2.32224842e-06,  -2.32224842e-06,  -1.00527013e-04,\n",
        "         7.74381593e-04,  -1.00822798e-04,  -4.59760010e-04,\n",
        "         1.88308733e-05,  -2.32224842e-06,  -3.52471371e-06,\n",
        "        -1.00493047e-05,   1.41671940e-05,  -1.52280968e-04,\n",
        "        -3.53170823e-05,   1.76403805e-04,  -3.55669088e-06,\n",
        "         1.53139236e-05,  -2.32224842e-06,  -8.35308109e-06,\n",
        "        -1.61834977e-06,   2.79959655e-06,  -2.32224842e-06,\n",
        "         2.11429107e-05,  -4.07080733e-05,   1.92642074e-05,\n",
        "         1.97213219e-06,  -7.91040162e-06,   1.16610792e-05,\n",
        "         3.57363965e-05,  -4.97359256e-05,   1.05009063e-04,\n",
        "         1.05009063e-04,  -4.30253309e-04,   1.16306991e-04,\n",
        "         1.29956743e-04,  -5.34614851e-07,   3.03162345e-07,\n",
        "         6.66678986e-06,  -1.35321875e-06,  -9.23233376e-06,\n",
        "        -1.08728114e-05,   7.61209760e-05,  -1.08230204e-05,\n",
        "        -3.89566992e-05,  -5.32917593e-05,   5.50395569e-05,\n",
        "         4.97885558e-07,  -2.26511393e-05,   3.54653512e-05,\n",
        "        -3.42613998e-04,  -4.37796517e-05,   5.83279379e-05,\n",
        "         5.44565465e-04,  -2.16623601e-06,   9.46936635e-06,\n",
        "        -2.32224842e-06,  -4.23726703e-06,  -2.33065077e-05,\n",
        "         2.12879954e-06,   5.62480568e-06,   4.01096861e-05,\n",
        "        -3.87893826e-04,  -2.32224842e-06,   3.99886237e-04,\n",
        "         5.55171113e-05,  -1.90542846e-05,  -9.35294025e-05,\n",
        "        -8.13466248e-06,  -2.77197513e-04,   3.53396903e-05,\n",
        "         4.02812408e-05,   7.91799249e-05,   4.20922833e-05,\n",
        "        -2.32070636e-05,  -2.32224842e-06,   7.07589874e-05,\n",
        "        -1.45305499e-04,  -3.51719743e-05,  -5.65216653e-05,\n",
        "         2.20575716e-04,  -1.91364201e-04,  -1.40613201e-04,\n",
        "         1.99850836e-05,   2.84608498e-05,  -3.30338444e-05,\n",
        "        -1.21645435e-05,  -5.43135990e-05,   4.53573497e-05,\n",
        "         1.23081584e-04,  -5.97038408e-05,   4.24117270e-06,\n",
        "        -2.24118438e-05,   1.34383176e-05,   5.18575512e-06,\n",
        "         4.02821665e-05,  -2.05140082e-05,  -2.34578458e-06,\n",
        "         1.74490368e-04,  -1.82600151e-05,   2.05657466e-05,\n",
        "        -3.08514035e-05,   8.62341473e-06,   5.86343963e-05,\n",
        "        -3.94129428e-05,  -1.61310057e-05,  -2.32224842e-06,\n",
        "        -1.60010706e-04,   4.26666387e-05,   5.36854497e-05])"
       ]
      }
     ],
     "prompt_number": 29
    },
    {
     "cell_type": "markdown",
     "metadata": {},
     "source": [
      "###Now get the magnitudes:"
     ]
    },
    {
     "cell_type": "code",
     "collapsed": false,
     "input": [
      "dthetas=np.loadtxt('data/britgrid/magnew.dat')"
     ],
     "language": "python",
     "metadata": {},
     "outputs": [],
     "prompt_number": 30
    },
    {
     "cell_type": "code",
     "collapsed": false,
     "input": [
      "srcidx=np.argmax(dthetas[:,2])"
     ],
     "language": "python",
     "metadata": {},
     "outputs": [],
     "prompt_number": 31
    },
    {
     "cell_type": "code",
     "collapsed": false,
     "input": [
      "src=G.nodes()[srcidx]"
     ],
     "language": "python",
     "metadata": {},
     "outputs": [],
     "prompt_number": 32
    },
    {
     "cell_type": "code",
     "collapsed": false,
     "input": [
      "src"
     ],
     "language": "python",
     "metadata": {},
     "outputs": [
      {
       "metadata": {},
       "output_type": "pyout",
       "prompt_number": 33,
       "text": [
        "86"
       ]
      }
     ],
     "prompt_number": 33
    },
    {
     "cell_type": "markdown",
     "metadata": {},
     "source": [
      "### Get the Meta graph lapl"
     ]
    },
    {
     "cell_type": "code",
     "collapsed": false,
     "input": [
      "numnodes=G.number_of_nodes()\n",
      "allnodes=G.nodes()\n",
      "\n",
      "Lm=np.zeros((numnodes,numnodes))\n",
      "\n",
      "for (u,v) in G.edges():\n",
      "    uidx,vidx=allnodes.index(u), allnodes.index(v)\n",
      "    Lm[uidx,vidx]=G[u][v]['weight']*np.cos(xthetas[uidx]-xthetas[vidx])\n",
      "    Lm[vidx,uidx]=Lm[uidx,vidx]\n",
      "\n",
      "\n",
      "Lm=np.diag(np.sum(Lm,axis=0))-Lm\n"
     ],
     "language": "python",
     "metadata": {},
     "outputs": [],
     "prompt_number": 34
    },
    {
     "cell_type": "code",
     "collapsed": false,
     "input": [
      "Lm"
     ],
     "language": "python",
     "metadata": {},
     "outputs": [
      {
       "metadata": {},
       "output_type": "pyout",
       "prompt_number": 35,
       "text": [
        "array([[  44.98888757,  -44.98888757,    0.        , ...,    0.        ,\n",
        "           0.        ,    0.        ],\n",
        "       [ -44.98888757,   89.94442133,  -44.95553376, ...,    0.        ,\n",
        "           0.        ,    0.        ],\n",
        "       [   0.        ,  -44.95553376,  134.90437097, ...,    0.        ,\n",
        "           0.        ,    0.        ],\n",
        "       ..., \n",
        "       [   0.        ,    0.        ,    0.        , ...,  584.8958287 ,\n",
        "         -44.98888657,  -44.99758324],\n",
        "       [   0.        ,    0.        ,    0.        , ...,  -44.98888657,\n",
        "          44.98888657,    0.        ],\n",
        "       [   0.        ,    0.        ,    0.        , ...,  -44.99758324,\n",
        "           0.        ,   89.97368352]])"
       ]
      }
     ],
     "prompt_number": 35
    },
    {
     "cell_type": "code",
     "collapsed": false,
     "input": [
      "Lmg=np.linalg.pinv(Lm)"
     ],
     "language": "python",
     "metadata": {},
     "outputs": [],
     "prompt_number": 36
    },
    {
     "cell_type": "code",
     "collapsed": false,
     "input": [
      "resdist_from_src=np.zeros(G.number_of_nodes())\n",
      "for idx,node in enumerate(G.nodes()):\n",
      "    resdist_from_src[idx]=Lmg[srcidx, srcidx]+Lmg[idx, idx]-2*Lmg[srcidx, idx]"
     ],
     "language": "python",
     "metadata": {},
     "outputs": [],
     "prompt_number": 37
    },
    {
     "cell_type": "code",
     "collapsed": false,
     "input": [
      "resdist_from_src"
     ],
     "language": "python",
     "metadata": {},
     "outputs": [
      {
       "metadata": {},
       "output_type": "pyout",
       "prompt_number": 38,
       "text": [
        "array([ 0.2062852 ,  0.18405749,  0.16181328,  0.15372686,  0.1518075 ,\n",
        "        0.15402973,  0.14968597,  0.12732529,  0.12201359,  0.12244819,\n",
        "        0.11406319,  0.12458634,  0.14681405,  0.1362909 ,  0.11488384,\n",
        "        0.1128017 ,  0.11502392,  0.11139391,  0.11346757,  0.13569528,\n",
        "        0.09974563,  0.11682178,  0.10167973,  0.10185935,  0.1009871 ,\n",
        "        0.10284867,  0.10107417,  0.09916956,  0.12139727,  0.0920639 ,\n",
        "        0.0797846 ,  0.10202881,  0.12425652,  0.06236162,  0.06033545,\n",
        "        0.05995102,  0.06038229,  0.06075903,  0.05763731,  0.09337013,\n",
        "        0.08182535,  0.07497688,  0.07497688,  0.07328095,  0.07346075,\n",
        "        0.07349972,  0.0683189 ,  0.07423321,  0.06808798,  0.06841457,\n",
        "        0.06179024,  0.06229897,  0.06030611,  0.06252833,  0.05966814,\n",
        "        0.0628559 ,  0.06315611,  0.06044687,  0.06145967,  0.05833416,\n",
        "        0.04890904,  0.0485034 ,  0.05075699,  0.04898693,  0.03757593,\n",
        "        0.06237149,  0.0845992 ,  0.07189258,  0.06117051,  0.05965651,\n",
        "        0.06647337,  0.0557904 ,  0.05628264,  0.07851035,  0.0551414 ,\n",
        "        0.05719568,  0.05050657,  0.05507293,  0.05638131,  0.04915656,\n",
        "        0.04878164,  0.04933559,  0.04033583,  0.03757421,  0.02222771,\n",
        "        0.        ,  0.04169181,  0.04097482,  0.04275561,  0.04260265,\n",
        "        0.04907039,  0.0492839 ,  0.05067071,  0.06101142,  0.07122755,\n",
        "        0.07813394,  0.07712491,  0.0720592 ,  0.08243951,  0.05785047,\n",
        "        0.07110817,  0.07584204,  0.08910899,  0.09314108,  0.08794628,\n",
        "        0.0735143 ,  0.06294309,  0.06493987,  0.05117123,  0.06752308,\n",
        "        0.07676425,  0.07891548,  0.07398342,  0.06196074,  0.05731404,\n",
        "        0.06194068,  0.08416839,  0.05018236,  0.07241007,  0.05454891])"
       ]
      }
     ],
     "prompt_number": 38
    },
    {
     "cell_type": "markdown",
     "metadata": {},
     "source": [
      "###Now plot:"
     ]
    },
    {
     "cell_type": "code",
     "collapsed": false,
     "input": [
      "import pylab\n",
      "pylab.rcParams['figure.figsize'] = (15.0, 8.0)"
     ],
     "language": "python",
     "metadata": {},
     "outputs": [],
     "prompt_number": 39
    },
    {
     "cell_type": "code",
     "collapsed": false,
     "input": [
      "plt.xlabel(\"Resistance distance from source\")\n",
      "plt.ylabel(r\"$\\Delta \\theta$\")\n",
      "\n",
      "plt.plot(resdist_from_src, dthetas[:,1], 'o')\n",
      "plt.savefig(\"dtheta_resdist.eps\")"
     ],
     "language": "python",
     "metadata": {},
     "outputs": [
      {
       "metadata": {},
       "output_type": "display_data",
       "png": "[encoded data removed]",
       "text": [
        "<matplotlib.figure.Figure at 0x7f275e3c6890>"
       ]
      }
     ],
     "prompt_number": 40
    },
    {
     "cell_type": "code",
     "collapsed": false,
     "input": [
      "plt.xlabel(\"Resistance distance from source\")\n",
      "plt.ylabel(r\"$\\Delta \\omega$\")\n",
      "\n",
      "plt.plot(resdist_from_src, dthetas[:,2], 'o')\n",
      "plt.savefig(\"domega_resdist.eps\")"
     ],
     "language": "python",
     "metadata": {},
     "outputs": [
      {
       "metadata": {},
       "output_type": "display_data",
       "png": "[encoded data removed]",
       "text": [
        "<matplotlib.figure.Figure at 0x7f2759d68fd0>"
       ]
      }
     ],
     "prompt_number": 41
    },
    {
     "cell_type": "code",
     "collapsed": false,
     "input": [],
     "language": "python",
     "metadata": {},
     "outputs": [],
     "prompt_number": 41
    }
   ],
   "metadata": {}
  }
 ]
}