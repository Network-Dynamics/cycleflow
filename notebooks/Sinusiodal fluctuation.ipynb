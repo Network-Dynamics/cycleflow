{
 "metadata": {
  "name": ""
 },
 "nbformat": 3,
 "nbformat_minor": 0,
 "worksheets": [
  {
   "cells": [
    {
     "cell_type": "code",
     "collapsed": false,
     "input": [
      "import networkx as nx\n",
      "import matplotlib.pyplot as plt\n",
      "%matplotlib inline"
     ],
     "language": "python",
     "metadata": {},
     "outputs": [],
     "prompt_number": 110
    },
    {
     "cell_type": "markdown",
     "metadata": {},
     "source": [
      "###Set up the network"
     ]
    },
    {
     "cell_type": "code",
     "collapsed": false,
     "input": [
      "edges=np.loadtxt('data/britgrid/edge_list.dat', dtype='int')"
     ],
     "language": "python",
     "metadata": {},
     "outputs": [],
     "prompt_number": 111
    },
    {
     "cell_type": "code",
     "collapsed": false,
     "input": [
      "generators=np.loadtxt('data/britgrid/gen_list.dat', dtype='int')"
     ],
     "language": "python",
     "metadata": {},
     "outputs": [],
     "prompt_number": 112
    },
    {
     "cell_type": "code",
     "collapsed": false,
     "input": [
      "G=nx.Graph()"
     ],
     "language": "python",
     "metadata": {},
     "outputs": [],
     "prompt_number": 113
    },
    {
     "cell_type": "code",
     "collapsed": false,
     "input": [
      "G.add_edges_from(edges)"
     ],
     "language": "python",
     "metadata": {},
     "outputs": [],
     "prompt_number": 114
    },
    {
     "cell_type": "code",
     "collapsed": false,
     "input": [
      "generators"
     ],
     "language": "python",
     "metadata": {},
     "outputs": [
      {
       "metadata": {},
       "output_type": "pyout",
       "prompt_number": 115,
       "text": [
        "array([ 5, 16, 25, 35, 44, 53, 64, 75, 88, 92])"
       ]
      }
     ],
     "prompt_number": 115
    },
    {
     "cell_type": "code",
     "collapsed": false,
     "input": [
      "generators=[gen-1 for gen in generators]"
     ],
     "language": "python",
     "metadata": {},
     "outputs": [],
     "prompt_number": 116
    },
    {
     "cell_type": "code",
     "collapsed": false,
     "input": [
      "[G.nodes().index(gn) for gn in generators]"
     ],
     "language": "python",
     "metadata": {},
     "outputs": [
      {
       "metadata": {},
       "output_type": "pyout",
       "prompt_number": 117,
       "text": [
        "[3, 14, 23, 33, 42, 51, 62, 73, 86, 90]"
       ]
      }
     ],
     "prompt_number": 117
    },
    {
     "cell_type": "code",
     "collapsed": false,
     "input": [
      "P_gen=11\n",
      "P_con=-1\n",
      "K_gen_edges=450\n",
      "K_others=45\n"
     ],
     "language": "python",
     "metadata": {},
     "outputs": [],
     "prompt_number": 118
    },
    {
     "cell_type": "code",
     "collapsed": false,
     "input": [
      "Pvec=np.ones(G.number_of_nodes())"
     ],
     "language": "python",
     "metadata": {},
     "outputs": [],
     "prompt_number": 119
    },
    {
     "cell_type": "code",
     "collapsed": false,
     "input": [
      "Pvec*=P_con"
     ],
     "language": "python",
     "metadata": {},
     "outputs": [],
     "prompt_number": 120
    },
    {
     "cell_type": "code",
     "collapsed": false,
     "input": [
      "Pvec[[G.nodes().index(gn)+1 for gn in generators]]=P_gen #weird hack because xiaozhu made it so.."
     ],
     "language": "python",
     "metadata": {},
     "outputs": [],
     "prompt_number": 121
    },
    {
     "cell_type": "code",
     "collapsed": false,
     "input": [
      "Pvec"
     ],
     "language": "python",
     "metadata": {},
     "outputs": [
      {
       "metadata": {},
       "output_type": "pyout",
       "prompt_number": 122,
       "text": [
        "array([ -1.,  -1.,  -1.,  -1.,  11.,  -1.,  -1.,  -1.,  -1.,  -1.,  -1.,\n",
        "        -1.,  -1.,  -1.,  -1.,  11.,  -1.,  -1.,  -1.,  -1.,  -1.,  -1.,\n",
        "        -1.,  -1.,  11.,  -1.,  -1.,  -1.,  -1.,  -1.,  -1.,  -1.,  -1.,\n",
        "        -1.,  11.,  -1.,  -1.,  -1.,  -1.,  -1.,  -1.,  -1.,  -1.,  11.,\n",
        "        -1.,  -1.,  -1.,  -1.,  -1.,  -1.,  -1.,  -1.,  11.,  -1.,  -1.,\n",
        "        -1.,  -1.,  -1.,  -1.,  -1.,  -1.,  -1.,  -1.,  11.,  -1.,  -1.,\n",
        "        -1.,  -1.,  -1.,  -1.,  -1.,  -1.,  -1.,  -1.,  11.,  -1.,  -1.,\n",
        "        -1.,  -1.,  -1.,  -1.,  -1.,  -1.,  -1.,  -1.,  -1.,  -1.,  11.,\n",
        "        -1.,  -1.,  -1.,  11.,  -1.,  -1.,  -1.,  -1.,  -1.,  -1.,  -1.,\n",
        "        -1.,  -1.,  -1.,  -1.,  -1.,  -1.,  -1.,  -1.,  -1.,  -1.,  -1.,\n",
        "        -1.,  -1.,  -1.,  -1.,  -1.,  -1.,  -1.,  -1.,  -1.,  -1.])"
       ]
      }
     ],
     "prompt_number": 122
    },
    {
     "cell_type": "code",
     "collapsed": false,
     "input": [
      "for u,v in G.edges_iter():\n",
      "    G[u][v]['weight']=45\n",
      "    G[v][u]['weight']=45"
     ],
     "language": "python",
     "metadata": {},
     "outputs": [],
     "prompt_number": 123
    },
    {
     "cell_type": "code",
     "collapsed": false,
     "input": [
      "for gen in generators:\n",
      "    neighbours=G.neighbors(gen)\n",
      "    for nei in neighbours:\n",
      "        G[gen][nei]={'weight':450}    \n",
      "        G[nei][gen]={'weight':450}    #Is there no clean way to change weight of an edge in networkx?"
     ],
     "language": "python",
     "metadata": {},
     "outputs": [],
     "prompt_number": 124
    },
    {
     "cell_type": "code",
     "collapsed": false,
     "input": [
      "G[4]"
     ],
     "language": "python",
     "metadata": {},
     "outputs": [
      {
       "metadata": {},
       "output_type": "pyout",
       "prompt_number": 125,
       "text": [
        "{3: {'weight': 450}, 5: {'weight': 450}}"
       ]
      }
     ],
     "prompt_number": 125
    },
    {
     "cell_type": "code",
     "collapsed": false,
     "input": [
      "Pvec"
     ],
     "language": "python",
     "metadata": {},
     "outputs": [
      {
       "metadata": {},
       "output_type": "pyout",
       "prompt_number": 126,
       "text": [
        "array([ -1.,  -1.,  -1.,  -1.,  11.,  -1.,  -1.,  -1.,  -1.,  -1.,  -1.,\n",
        "        -1.,  -1.,  -1.,  -1.,  11.,  -1.,  -1.,  -1.,  -1.,  -1.,  -1.,\n",
        "        -1.,  -1.,  11.,  -1.,  -1.,  -1.,  -1.,  -1.,  -1.,  -1.,  -1.,\n",
        "        -1.,  11.,  -1.,  -1.,  -1.,  -1.,  -1.,  -1.,  -1.,  -1.,  11.,\n",
        "        -1.,  -1.,  -1.,  -1.,  -1.,  -1.,  -1.,  -1.,  11.,  -1.,  -1.,\n",
        "        -1.,  -1.,  -1.,  -1.,  -1.,  -1.,  -1.,  -1.,  11.,  -1.,  -1.,\n",
        "        -1.,  -1.,  -1.,  -1.,  -1.,  -1.,  -1.,  -1.,  11.,  -1.,  -1.,\n",
        "        -1.,  -1.,  -1.,  -1.,  -1.,  -1.,  -1.,  -1.,  -1.,  -1.,  11.,\n",
        "        -1.,  -1.,  -1.,  11.,  -1.,  -1.,  -1.,  -1.,  -1.,  -1.,  -1.,\n",
        "        -1.,  -1.,  -1.,  -1.,  -1.,  -1.,  -1.,  -1.,  -1.,  -1.,  -1.,\n",
        "        -1.,  -1.,  -1.,  -1.,  -1.,  -1.,  -1.,  -1.,  -1.,  -1.])"
       ]
      }
     ],
     "prompt_number": 126
    },
    {
     "cell_type": "markdown",
     "metadata": {},
     "source": [
      "###pickle it"
     ]
    },
    {
     "cell_type": "code",
     "collapsed": false,
     "input": [
      "import cPickle as pickle"
     ],
     "language": "python",
     "metadata": {},
     "outputs": [],
     "prompt_number": 127
    },
    {
     "cell_type": "code",
     "collapsed": false,
     "input": [
      "nx.write_gpickle(G, \"britishgrid.gpickle\")"
     ],
     "language": "python",
     "metadata": {},
     "outputs": [],
     "prompt_number": 128
    },
    {
     "cell_type": "code",
     "collapsed": false,
     "input": [
      "f=open(\"Pvec.pickle\",'w')\n",
      "pickle.dump(Pvec, f)\n",
      "f.close()"
     ],
     "language": "python",
     "metadata": {},
     "outputs": [],
     "prompt_number": 129
    },
    {
     "cell_type": "markdown",
     "metadata": {},
     "source": [
      "### Solve ODE"
     ]
    },
    {
     "cell_type": "code",
     "collapsed": false,
     "input": [
      "import kuramoto"
     ],
     "language": "python",
     "metadata": {},
     "outputs": [],
     "prompt_number": 130
    },
    {
     "cell_type": "code",
     "collapsed": false,
     "input": [
      "allnodes=G.nodes()\n",
      "alledges=G.edges()"
     ],
     "language": "python",
     "metadata": {},
     "outputs": [],
     "prompt_number": 131
    },
    {
     "cell_type": "code",
     "collapsed": false,
     "input": [
      "M=np.array(nx.incidence_matrix(G,oriented=True))"
     ],
     "language": "python",
     "metadata": {},
     "outputs": [],
     "prompt_number": 132
    },
    {
     "cell_type": "code",
     "collapsed": false,
     "input": [
      "Mw=np.array(nx.incidence_matrix(G,oriented=True,weight='weight'))"
     ],
     "language": "python",
     "metadata": {},
     "outputs": [],
     "prompt_number": 133
    },
    {
     "cell_type": "code",
     "collapsed": false,
     "input": [
      "(np.dot(Mw,M.T)==nx.laplacian_matrix(G)).all()"
     ],
     "language": "python",
     "metadata": {},
     "outputs": [
      {
       "metadata": {},
       "output_type": "pyout",
       "prompt_number": 134,
       "text": [
        "True"
       ]
      }
     ],
     "prompt_number": 134
    },
    {
     "cell_type": "code",
     "collapsed": false,
     "input": [
      "sol=kuramoto.try_find_fps(1,M,Mw,Pvec,tmax=10000)"
     ],
     "language": "python",
     "metadata": {},
     "outputs": [],
     "prompt_number": 135
    },
    {
     "cell_type": "code",
     "collapsed": false,
     "input": [
      "finalthetas=sol[0]"
     ],
     "language": "python",
     "metadata": {},
     "outputs": [],
     "prompt_number": 136
    },
    {
     "cell_type": "markdown",
     "metadata": {},
     "source": [
      "### Compare with xiaozhu"
     ]
    },
    {
     "cell_type": "code",
     "collapsed": false,
     "input": [
      "xfp=np.loadtxt('data/britgrid/FP.dat',dtype=float)"
     ],
     "language": "python",
     "metadata": {},
     "outputs": [],
     "prompt_number": 137
    },
    {
     "cell_type": "code",
     "collapsed": false,
     "input": [
      "xthetas=xfp[:,1]"
     ],
     "language": "python",
     "metadata": {},
     "outputs": [],
     "prompt_number": 138
    },
    {
     "cell_type": "code",
     "collapsed": false,
     "input": [
      "Pvec-np.dot(Mw, np.sin(np.dot(M.T, xthetas)))"
     ],
     "language": "python",
     "metadata": {},
     "outputs": [
      {
       "metadata": {},
       "output_type": "pyout",
       "prompt_number": 141,
       "text": [
        "array([ -2.32224842e-06,  -1.69595681e-06,  -3.74033898e-05,\n",
        "         2.63507546e-04,  -1.82755903e-04,  -2.32224842e-06,\n",
        "        -3.63664514e-05,  -3.87711687e-05,   5.27264311e-05,\n",
        "        -2.48415657e-05,   3.33341973e-05,   6.47909342e-05,\n",
        "        -2.32224842e-06,  -2.32224842e-06,  -1.32034561e-04,\n",
        "         4.47475584e-05,  -2.32224842e-06,   7.14635691e-06,\n",
        "         2.52211915e-05,  -2.32224842e-06,  -3.68389915e-05,\n",
        "        -1.56450181e-05,   1.50230895e-04,  -1.06910067e-04,\n",
        "        -4.08797723e-05,   2.64373409e-05,   3.23355778e-05,\n",
        "        -9.30362548e-05,   4.26666387e-05,   1.52326859e-05,\n",
        "         3.82043991e-05,   2.34970768e-06,  -1.87235954e-06,\n",
        "        -5.91742361e-05,   2.66749110e-05,   1.32577325e-05,\n",
        "        -5.38595296e-06,   2.45465125e-05,  -3.76916920e-05,\n",
        "         2.17449507e-05,  -2.69111505e-04,  -2.36242387e-04,\n",
        "         3.47238367e-04,   1.81056115e-04,  -5.57747481e-05,\n",
        "        -6.91104745e-06,   2.80313281e-06,  -1.66615911e-06,\n",
        "         1.33361896e-06,   1.74353783e-05,   7.62551475e-07,\n",
        "        -1.49161149e-06,   8.06939901e-06,  -1.42247066e-06,\n",
        "         2.92638573e-07,  -7.80209748e-06,   6.86341135e-05,\n",
        "        -4.10047933e-05,  -1.34030824e-05,  -4.74964050e-06,\n",
        "         2.18944955e-05,   1.14634330e-04,  -5.80787913e-04,\n",
        "         3.06237343e-05,   6.16943520e-05,  -6.87042657e-06,\n",
        "         2.17664034e-06,   4.89936997e-06,  -1.82162035e-05,\n",
        "         5.04533286e-05,  -3.42364912e-05,   4.02262974e-05,\n",
        "         1.62315178e-04,  -1.00822798e-04,  -2.11642596e-05,\n",
        "        -5.10237903e-05,   1.90504443e-05,  -7.33342596e-05,\n",
        "         3.14542122e-05,  -3.31238746e-04,  -8.27259497e-06,\n",
        "         4.43427581e-04,  -8.22641405e-05,   3.76923042e-04,\n",
        "        -2.37064830e-06,  -2.32224842e-06,  -5.94576911e-04,\n",
        "         1.08477800e-05,   3.03889999e-04,  -2.41867779e-04,\n",
        "         7.88626004e-04,  -3.21070137e-04,   1.96465876e-05,\n",
        "        -5.57988576e-06,  -4.50890842e-05,   1.51936085e-05,\n",
        "         2.48670986e-05,   1.63000269e-05,  -4.22298004e-05,\n",
        "         8.48200374e-05,  -6.01177828e-05,   6.41052854e-05,\n",
        "        -4.85751747e-05,   1.28527064e-05,   3.01820984e-05,\n",
        "        -4.62493347e-05,   3.59057616e-05,   1.81760905e-05,\n",
        "        -4.09236983e-05,  -2.02095482e-06,   1.29674490e-05,\n",
        "        -1.61477593e-05,  -3.03772414e-07,   9.47073570e-05,\n",
        "        -1.04110938e-04,  -1.12157130e-04,   4.26666387e-05,\n",
        "         4.28680656e-05,  -2.32224842e-06,   9.90680630e-06])"
       ]
      }
     ],
     "prompt_number": 141
    },
    {
     "cell_type": "markdown",
     "metadata": {},
     "source": [
      "###Now get the magnitudes:"
     ]
    },
    {
     "cell_type": "code",
     "collapsed": false,
     "input": [
      "dthetas=np.loadtxt('data/britgrid/fluctuation_data.dat')"
     ],
     "language": "python",
     "metadata": {},
     "outputs": [],
     "prompt_number": 142
    },
    {
     "cell_type": "code",
     "collapsed": false,
     "input": [
      "srcidx=np.argmax(dthetas[:,2])"
     ],
     "language": "python",
     "metadata": {},
     "outputs": [],
     "prompt_number": 157
    },
    {
     "cell_type": "code",
     "collapsed": false,
     "input": [
      "src=G.nodes()[srcidx]"
     ],
     "language": "python",
     "metadata": {},
     "outputs": [],
     "prompt_number": 158
    },
    {
     "cell_type": "code",
     "collapsed": false,
     "input": [
      "src"
     ],
     "language": "python",
     "metadata": {},
     "outputs": [
      {
       "metadata": {},
       "output_type": "pyout",
       "prompt_number": 159,
       "text": [
        "64"
       ]
      }
     ],
     "prompt_number": 159
    },
    {
     "cell_type": "markdown",
     "metadata": {},
     "source": [
      "### Get the Meta graph lapl"
     ]
    },
    {
     "cell_type": "code",
     "collapsed": false,
     "input": [
      "numnodes=G.number_of_nodes()\n",
      "allnodes=G.nodes()\n",
      "\n",
      "Lm=np.zeros((numnodes,numnodes))\n",
      "\n",
      "for (u,v) in G.edges():\n",
      "    uidx,vidx=allnodes.index(u), allnodes.index(v)\n",
      "    Lm[uidx,vidx]=G[u][v]['weight']*np.cos(xthetas[uidx]-xthetas[vidx])\n",
      "    Lm[vidx,uidx]=Lm[uidx,vidx]\n",
      "\n",
      "\n",
      "Lm=np.diag(np.sum(Lm,axis=0))-Lm\n"
     ],
     "language": "python",
     "metadata": {},
     "outputs": [],
     "prompt_number": 181
    },
    {
     "cell_type": "code",
     "collapsed": false,
     "input": [
      "Lm"
     ],
     "language": "python",
     "metadata": {},
     "outputs": [
      {
       "metadata": {},
       "output_type": "pyout",
       "prompt_number": 183,
       "text": [
        "array([[  44.98888757,  -44.98888757,    0.        , ...,    0.        ,\n",
        "           0.        ,    0.        ],\n",
        "       [ -44.98888757,   89.94442133,  -44.95553376, ...,    0.        ,\n",
        "           0.        ,    0.        ],\n",
        "       [   0.        ,  -44.95553376,  539.85841505, ...,    0.        ,\n",
        "           0.        ,    0.        ],\n",
        "       ..., \n",
        "       [   0.        ,    0.        ,    0.        , ...,  179.84499419,\n",
        "         -44.98888757,  -44.9943262 ],\n",
        "       [   0.        ,    0.        ,    0.        , ...,  -44.98888757,\n",
        "          44.98888757,    0.        ],\n",
        "       [   0.        ,    0.        ,    0.        , ...,  -44.9943262 ,\n",
        "           0.        ,   89.96165006]])"
       ]
      }
     ],
     "prompt_number": 183
    },
    {
     "cell_type": "code",
     "collapsed": false,
     "input": [
      "Lmg=np.linalg.pinv(Lm)"
     ],
     "language": "python",
     "metadata": {},
     "outputs": [],
     "prompt_number": 184
    },
    {
     "cell_type": "code",
     "collapsed": false,
     "input": [
      "resdist_from_src=np.zeros(G.number_of_nodes())\n",
      "for idx,node in enumerate(G.nodes()):\n",
      "    resdist_from_src[idx]=Lmg[srcidx, srcidx]+Lmg[idx, idx]-2*Lmg[srcidx, idx]"
     ],
     "language": "python",
     "metadata": {},
     "outputs": [],
     "prompt_number": 185
    },
    {
     "cell_type": "code",
     "collapsed": false,
     "input": [
      "resdist_from_src"
     ],
     "language": "python",
     "metadata": {},
     "outputs": [
      {
       "metadata": {},
       "output_type": "pyout",
       "prompt_number": 186,
       "text": [
        "array([ 0.17485776,  0.15263005,  0.13038584,  0.13048843,  0.13038939,\n",
        "        0.1526171 ,  0.11824037,  0.09587969,  0.09189496,  0.09728947,\n",
        "        0.09533033,  0.09402648,  0.11625419,  0.11755804,  0.09270163,\n",
        "        0.09115962,  0.11338733,  0.07776384,  0.07908285,  0.10131057,\n",
        "        0.064769  ,  0.08421021,  0.06654057,  0.06504872,  0.06525403,\n",
        "        0.0731156 ,  0.06558176,  0.06170932,  0.08393704,  0.05264128,\n",
        "        0.03839515,  0.06063935,  0.08286706,  0.03668739,  0.03492789,\n",
        "        0.02787521,  0.02844388,  0.02768201,  0.02535885,  0.05899793,\n",
        "        0.04803827,  0.04834081,  0.04680234,  0.04549258,  0.04456359,\n",
        "        0.04514506,  0.03537026,  0.0391086 ,  0.03216873,  0.03496488,\n",
        "        0.0318434 ,  0.03116733,  0.03002842,  0.05225613,  0.02391263,\n",
        "        0.0260467 ,  0.02689726,  0.02355231,  0.02665196,  0.02341389,\n",
        "        0.01212466,  0.01469138,  0.01312753,  0.        ,  0.02309312,\n",
        "        0.04260151,  0.06482922,  0.04327398,  0.03207968,  0.02407625,\n",
        "        0.03250715,  0.02355279,  0.02648106,  0.02870329,  0.02441723,\n",
        "        0.02027595,  0.0144973 ,  0.02108231,  0.02036729,  0.01173592,\n",
        "        0.01518336,  0.01421488,  0.02024747,  0.02061237,  0.02933254,\n",
        "        0.05156025,  0.019777  ,  0.01960027,  0.02111404,  0.0137262 ,\n",
        "        0.01259377,  0.0139763 ,  0.02239692,  0.02824926,  0.03524586,\n",
        "        0.04239941,  0.04185264,  0.03721502,  0.04736926,  0.02383058,\n",
        "        0.037199  ,  0.04345217,  0.05719291,  0.06175356,  0.05714424,\n",
        "        0.04335697,  0.03687525,  0.04055221,  0.02862483,  0.04174493,\n",
        "        0.04850561,  0.04891562,  0.0429712 ,  0.03065595,  0.02143403,\n",
        "        0.0339879 ,  0.05621561,  0.02551772,  0.04774543,  0.03020498])"
       ]
      }
     ],
     "prompt_number": 186
    },
    {
     "cell_type": "markdown",
     "metadata": {},
     "source": [
      "###Now plot:"
     ]
    },
    {
     "cell_type": "code",
     "collapsed": false,
     "input": [
      "import pylab\n",
      "pylab.rcParams['figure.figsize'] = (15.0, 8.0)"
     ],
     "language": "python",
     "metadata": {},
     "outputs": [],
     "prompt_number": 191
    },
    {
     "cell_type": "code",
     "collapsed": false,
     "input": [
      "plt.xlabel(\"Resistance distance from source\")\n",
      "plt.ylabel(r\"$\\Delta \\theta$\")\n",
      "\n",
      "plt.plot(resdist_from_src, dthetas[:,1], 'o')\n",
      "plt.savefig(\"dtheta_resdist.eps\")"
     ],
     "language": "python",
     "metadata": {},
     "outputs": [
      {
       "metadata": {},
       "output_type": "display_data",
       "png": "[encoded data removed]",
       "text": [
        "<matplotlib.figure.Figure at 0x7fcf6d6db850>"
       ]
      }
     ],
     "prompt_number": 197
    },
    {
     "cell_type": "code",
     "collapsed": false,
     "input": [
      "plt.xlabel(\"Resistance distance from source\")\n",
      "plt.ylabel(r\"$\\Delta \\omega$\")\n",
      "\n",
      "plt.plot(resdist_from_src, dthetas[:,2], 'o')\n",
      "plt.savefig(\"domega_resdist.eps\")"
     ],
     "language": "python",
     "metadata": {},
     "outputs": [
      {
       "metadata": {},
       "output_type": "display_data",
       "png": "[encoded data removed]",
       "text": [
        "<matplotlib.figure.Figure at 0x7fcf6db4ec90>"
       ]
      }
     ],
     "prompt_number": 196
    },
    {
     "cell_type": "code",
     "collapsed": false,
     "input": [],
     "language": "python",
     "metadata": {},
     "outputs": []
    }
   ],
   "metadata": {}
  }
 ]
}