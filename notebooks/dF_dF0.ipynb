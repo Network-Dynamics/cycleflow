{
 "metadata": {
  "name": ""
 },
 "nbformat": 3,
 "nbformat_minor": 0,
 "worksheets": [
  {
   "cells": [
    {
     "cell_type": "markdown",
     "metadata": {},
     "source": [
      "Let's examine if $\\Delta F_{ij}/F^{(0)}_{src}$ is *almost* linearly correlated with cycle distances"
     ]
    },
    {
     "cell_type": "markdown",
     "metadata": {},
     "source": [
      "$$\\Delta F_{ij}/F^{(0)}_{ab}\\propto R_{i,e_0}- R_{i,e_1}-R_{j,e_0}+ R_{j,e_1}$$"
     ]
    },
    {
     "cell_type": "code",
     "collapsed": false,
     "input": [
      "import sys, os\n",
      "sys.path.append(os.getcwd()+'/'+'../src')\n",
      "import VoronoiGraph as vg\n",
      "import matplotlib.pyplot as plt\n",
      "import networkx as nx\n",
      "%matplotlib inline\n",
      "import pylab\n",
      "pylab.rcParams['figure.figsize'] = (10.0, 8.0)\n",
      "import scipy.linalg"
     ],
     "language": "python",
     "metadata": {},
     "outputs": [],
     "prompt_number": 1
    },
    {
     "cell_type": "code",
     "collapsed": false,
     "input": [
      "npoints=50"
     ],
     "language": "python",
     "metadata": {},
     "outputs": [],
     "prompt_number": 2
    },
    {
     "cell_type": "code",
     "collapsed": false,
     "input": [
      "gr=vg.VoronoiPlanarGraph(npoints)\n"
     ],
     "language": "python",
     "metadata": {},
     "outputs": [],
     "prompt_number": 3
    },
    {
     "cell_type": "code",
     "collapsed": false,
     "input": [
      "G=gr.graph\n",
      "H=gr.dual_graph"
     ],
     "language": "python",
     "metadata": {},
     "outputs": [],
     "prompt_number": 4
    },
    {
     "cell_type": "code",
     "collapsed": false,
     "input": [
      "def resmat(G):\n",
      "    n = G.number_of_nodes()\n",
      "    gamma_mat = np.array(nx.laplacian_matrix(G)) + np.ones((n, n))/(1.*n)\n",
      "    # inverse of Gamma\n",
      "    gamma_mat_inv = scipy.linalg.inv(gamma_mat)\n",
      "    # compute Omega\n",
      "    mat_ii = np.tile(gamma_mat_inv.diagonal(), (gamma_mat_inv.shape[0], 1))\n",
      "    mat_jj = mat_ii.transpose()\n",
      "    omega_mat = mat_ii + mat_jj - 2*gamma_mat_inv\n",
      "    return omega_mat\n"
     ],
     "language": "python",
     "metadata": {},
     "outputs": [],
     "prompt_number": 5
    },
    {
     "cell_type": "code",
     "collapsed": false,
     "input": [
      "import voronoi_decay as vd"
     ],
     "language": "python",
     "metadata": {},
     "outputs": [],
     "prompt_number": 6
    },
    {
     "cell_type": "code",
     "collapsed": false,
     "input": [
      "res=vd.dF_various_cycle_dist(gr, dk=1)"
     ],
     "language": "python",
     "metadata": {},
     "outputs": [],
     "prompt_number": 7
    },
    {
     "cell_type": "code",
     "collapsed": false,
     "input": [
      "plt.plot(np.abs(res[0][0]), np.abs(res[0][1]), 'bo')"
     ],
     "language": "python",
     "metadata": {},
     "outputs": [
      {
       "metadata": {},
       "output_type": "pyout",
       "prompt_number": 9,
       "text": [
        "[<matplotlib.lines.Line2D at 0x7fe24790d780>]"
       ]
      },
      {
       "metadata": {},
       "output_type": "display_data",
       "png": "[encoded data removed]",
       "text": [
        "<matplotlib.figure.Figure at 0x7fe24c1daa20>"
       ]
      }
     ],
     "prompt_number": 9
    },
    {
     "cell_type": "code",
     "collapsed": false,
     "input": [],
     "language": "python",
     "metadata": {},
     "outputs": [],
     "prompt_number": 8
    }
   ],
   "metadata": {}
  }
 ]
}