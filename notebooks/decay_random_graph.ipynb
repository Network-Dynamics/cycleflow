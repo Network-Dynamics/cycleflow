{
 "metadata": {
  "name": ""
 },
 "nbformat": 3,
 "nbformat_minor": 0,
 "worksheets": [
  {
   "cells": [
    {
     "cell_type": "code",
     "collapsed": false,
     "input": [
      "%matplotlib inline"
     ],
     "language": "python",
     "metadata": {},
     "outputs": [],
     "prompt_number": 100
    },
    {
     "cell_type": "code",
     "collapsed": false,
     "input": [
      "from scipy.sparse.linalg import spsolve\n",
      "from scipy.sparse import diags\n",
      "\n",
      "def decay(G, perturb, weight=None):\n",
      "    \n",
      "    \n",
      "        \n",
      "    L=nx.to_scipy_sparse_matrix(G)\n",
      "    \n",
      "    degree_dict=G.degree()\n",
      "    L = diags([[degree_dict[node] for node in G.nodes()]], [0], format='csr') \\\n",
      "    - nx.to_scipy_sparse_matrix(G, weight='weight', format='csr')\n",
      "    \n",
      "    srcvec=np.zeros(G.number_of_nodes())\n",
      "    \n",
      "    allnodes_idx={node:idx for idx, node in enumerate(G.nodes())}\n",
      "    \n",
      "    srcvec[allnodes_idx[perturb[0]]]=1\n",
      "    srcvec[allnodes_idx[perturb[1]]]=-1\n",
      "    \n",
      "    dF=spsolve(L[1:,1:], srcvec[1:])\n",
      "    #Return the flows along each edge\n",
      "    return np.dot(np.array(nx.incidence_matrix(G, weight=weight, oriented=True)).T, np.insert(dF,0,0))\n",
      "        \n",
      "    "
     ],
     "language": "python",
     "metadata": {},
     "outputs": [],
     "prompt_number": 101
    },
    {
     "cell_type": "code",
     "collapsed": false,
     "input": [
      "def decay_with_edge_dist(G, perturb=None, weight=None):\n",
      "    if perturb==None:\n",
      "        #choose a central edge to perturb\n",
      "        centr_dict=nx.centrality.edge_betweenness_centrality(G)\n",
      "        perturb=sorted(centr_dict, key=centr_dict.__getitem__, reverse=True)[0]\n",
      "    \n",
      "    a,b=perturb\n",
      "    \n",
      "    df_edges=decay(G, perturb, weight=weight)\n",
      "    \n",
      "    all_dists_a=nx.shortest_path_length(G, source=a)\n",
      "    all_dists_b=nx.shortest_path_length(G, source=b)\n",
      "    \n",
      "    edge_dist_from_perturb=[min(all_dists_a[u], all_dists_a[v], all_dists_b[u], all_dists_b[v]) for u,v in G.edges()]\n",
      "\n",
      "    return np.array(edge_dist_from_perturb), df_edges\n",
      "    "
     ],
     "language": "python",
     "metadata": {},
     "outputs": [],
     "prompt_number": 102
    },
    {
     "cell_type": "code",
     "collapsed": false,
     "input": [
      "def aggregate(xdata, ydata):\n",
      "        \"\"\"\n",
      "        arguments:\n",
      "                xdata: python iterable\n",
      "                ydata: python iterable\n",
      "        xdata and ydata must have equal length\n",
      "\n",
      "        returns: xpoints, means, sds\n",
      "                xpoints: unique elements of xdata, in increasing order\n",
      "                means: average of y data points corresponding to each element in xpoints\n",
      "                sds: standard deviation of y data points corresponding to each element in xpoints\n",
      "        \"\"\"\n",
      "        xdata=np.array(xdata)\n",
      "        ydata=np.array(ydata)\n",
      "                \n",
      "        xpoints=set(xdata)\n",
      "        mean_at_xpoints=[]\n",
      "        sd_at_xpoints=[]\n",
      "                \n",
      "\n",
      "        for x in xpoints:\n",
      "                yvals_for_x=ydata[xdata==x]\n",
      "                mean_at_xpoints.append(np.mean(np.abs(yvals_for_x)))\n",
      "                sd_at_xpoints.append(np.sqrt(np.var(yvals_for_x)))\n",
      "    \n",
      "        return np.array(list(xpoints)), np.array(mean_at_xpoints), np.array(sd_at_xpoints)\n"
     ],
     "language": "python",
     "metadata": {},
     "outputs": [],
     "prompt_number": 103
    },
    {
     "cell_type": "code",
     "collapsed": false,
     "input": [
      "import sys, os\n",
      "sys.path.append(os.getcwd()+'/'+'../src/models')\n",
      "import VoronoiGraph as vg\n",
      "\n",
      "npoints=2000\n",
      "gr=vg.VoronoiPlanarGraph(npoints)\n",
      "G=gr.graph"
     ],
     "language": "python",
     "metadata": {},
     "outputs": [],
     "prompt_number": 104
    },
    {
     "cell_type": "code",
     "collapsed": false,
     "input": [
      "x,y=decay_with_edge_dist(G, weight=None)\n",
      "dists, means, sds= aggregate(x,y)"
     ],
     "language": "python",
     "metadata": {},
     "outputs": [],
     "prompt_number": 105
    },
    {
     "cell_type": "code",
     "collapsed": false,
     "input": [
      "plt.plot(np.log(dists),np.log(means), 'bo')"
     ],
     "language": "python",
     "metadata": {},
     "outputs": [
      {
       "metadata": {},
       "output_type": "pyout",
       "prompt_number": 106,
       "text": [
        "[<matplotlib.lines.Line2D at 0x7fcad2cc1b90>]"
       ]
      },
      {
       "metadata": {},
       "output_type": "display_data",
       "png": "[encoded data removed]",
       "text": [
        "<matplotlib.figure.Figure at 0x7fcad2e727d0>"
       ]
      }
     ],
     "prompt_number": 106
    },
    {
     "cell_type": "code",
     "collapsed": false,
     "input": [
      "np.polyfit(np.log(dists[2:-10]), np.log(means[2:-10]), deg=1)"
     ],
     "language": "python",
     "metadata": {},
     "outputs": [
      {
       "metadata": {},
       "output_type": "pyout",
       "prompt_number": 107,
       "text": [
        "array([-1.34327061, -2.30210711])"
       ]
      }
     ],
     "prompt_number": 107
    },
    {
     "cell_type": "code",
     "collapsed": false,
     "input": [],
     "language": "python",
     "metadata": {},
     "outputs": [],
     "prompt_number": 107
    }
   ],
   "metadata": {}
  }
 ]
}