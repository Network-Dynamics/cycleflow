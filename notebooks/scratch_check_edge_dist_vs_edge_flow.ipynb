{
 "metadata": {
  "name": ""
 },
 "nbformat": 3,
 "nbformat_minor": 0,
 "worksheets": [
  {
   "cells": [
    {
     "cell_type": "code",
     "collapsed": false,
     "input": [
      "from __future__ import division"
     ],
     "language": "python",
     "metadata": {},
     "outputs": [],
     "prompt_number": 7
    },
    {
     "cell_type": "code",
     "collapsed": false,
     "input": [
      "size=4\n",
      "nnodes=size*size\n",
      "\n",
      "G=nx.grid_2d_graph(size,size)\n",
      "mid=size//2\n",
      "perturb=((mid, mid), (mid, mid+1))"
     ],
     "language": "python",
     "metadata": {},
     "outputs": [],
     "prompt_number": 4
    },
    {
     "cell_type": "code",
     "collapsed": false,
     "input": [
      "from scipy.sparse.linalg import spsolve\n",
      "from scipy.sparse import diags\n",
      "\n",
      "def cycleflow_changes(dg, perturb=None):\n",
      "    \n",
      "    degrees=nx.degree(dg, weight='weight')\n",
      "    loopy_lapl= diags([np.ones(dg.number_of_nodes())*4], [0], format='csr') \\\n",
      "    - nx.to_scipy_sparse_matrix(dg, weight='weight', format='csr')\n",
      "    \n",
      "    size=int(np.sqrt(dg.number_of_nodes()))\n",
      "    mid=size//2\n",
      "\n",
      "    if perturb is None:\n",
      "        #Perturb at main vein, as a result, two cycles get affected\n",
      "        perturb=((mid, mid), (mid, mid+1))\n",
      "    \n",
      "    srcvec=np.zeros(dg.number_of_nodes())\n",
      "    \n",
      "    allnodes_idx={node:idx for idx, node in enumerate(dg.nodes())}\n",
      "    \n",
      "    srcvec[allnodes_idx[perturb[0]]]=1\n",
      "    srcvec[allnodes_idx[perturb[1]]]=-1\n",
      "    \n",
      "    df_c=spsolve(loopy_lapl, srcvec)\n",
      "    return {node:df_c[allnodes_idx[node]] for node in dg.nodes()}\n",
      "   "
     ],
     "language": "python",
     "metadata": {},
     "outputs": [],
     "prompt_number": 5
    },
    {
     "cell_type": "code",
     "collapsed": false,
     "input": [
      "def edge_distances(G):\n",
      "    \"\"\"\n",
      "    Computes the edge distance between any edge and \"center\": ((mid, mid), (mid, mid+1))\n",
      "    \"\"\"\n",
      "    \n",
      "    for u,v in G.edges():\n",
      "        "
     ],
     "language": "python",
     "metadata": {},
     "outputs": [
      {
       "metadata": {},
       "output_type": "pyout",
       "prompt_number": 6,
       "text": [
        "{(0, 0): 0.012727272727272721,\n",
        " (0, 1): 0.023939393939393927,\n",
        " (0, 2): 0.025303030303030292,\n",
        " (0, 3): -0.0013636363636363666,\n",
        " (1, 0): 0.026969696969696953,\n",
        " (1, 1): 0.05772727272727269,\n",
        " (1, 2): 0.078636363636363601,\n",
        " (1, 3): -0.030757575757575761,\n",
        " (2, 0): 0.037424242424242408,\n",
        " (2, 1): 0.10136363636363632,\n",
        " (2, 2): 0.26227272727272721,\n",
        " (2, 3): -0.20030303030303029,\n",
        " (3, 0): 0.021363636363636352,\n",
        " (3, 1): 0.048030303030303,\n",
        " (3, 2): 0.069393939393939369,\n",
        " (3, 3): -0.032727272727272723}"
       ]
      }
     ],
     "prompt_number": 6
    },
    {
     "cell_type": "code",
     "collapsed": false,
     "input": [],
     "language": "python",
     "metadata": {},
     "outputs": []
    }
   ],
   "metadata": {}
  }
 ]
}