{
 "metadata": {
  "name": "",
  "signature": "sha256:d8be45f5b5c327d430d3c0cd184ddbfc1ca7f95b5c0660556823e0df47678fc8"
 },
 "nbformat": 3,
 "nbformat_minor": 0,
 "worksheets": [
  {
   "cells": [
    {
     "cell_type": "markdown",
     "metadata": {},
     "source": [
      "#Studying the effect of perturbing an edge in a Kuramoto oscillator network\n"
     ]
    },
    {
     "cell_type": "markdown",
     "metadata": {},
     "source": [
      "Let's say we have a dynamical system:\n",
      "$$\\dot{\\vec{\\theta}}=\\vec{P}+M\\sin{\\left(M^T\\vec{\\theta}\\right)}$$\n",
      "\n",
      "And a fixed point:\n",
      "$$\\vec{P}+M\\sin{\\left(M^T\\vec{\\theta^*}\\right)}=0$$\n",
      "\n",
      "If we change the weight of only one edge like this:\n",
      "$$w_{i,j}\\mapsto w_{i,j}+\\epsilon$$\n",
      "\n",
      "Then the the fixed point will look like this:\n",
      "$$\\vec{\\theta'}=\\vec{\\theta^*}+\\delta\\vec{\\theta}$$\n",
      "$$L(D(G))\\vec{\\delta\\theta}=(0,0,\\cdots,q,-q,0,0,\\cdots)$$\n",
      "$$q=\\epsilon\\sin{(\\theta^*_i-\\theta^*_j)}$$"
     ]
    },
    {
     "cell_type": "code",
     "collapsed": false,
     "input": [
      "import kuramoto"
     ],
     "language": "python",
     "metadata": {},
     "outputs": [],
     "prompt_number": 1
    },
    {
     "cell_type": "code",
     "collapsed": false,
     "input": [
      "import networkx as nx\n",
      "import matplotlib.pyplot as plt\n",
      "%matplotlib inline"
     ],
     "language": "python",
     "metadata": {},
     "outputs": [],
     "prompt_number": 5
    },
    {
     "cell_type": "code",
     "collapsed": false,
     "input": [
      "import numpy as np"
     ],
     "language": "python",
     "metadata": {},
     "outputs": [],
     "prompt_number": 6
    },
    {
     "cell_type": "markdown",
     "metadata": {},
     "source": [
      "## Let's setup our powergrid:"
     ]
    },
    {
     "cell_type": "code",
     "collapsed": false,
     "input": [
      "nnodes=10\n",
      "P_coeff=0.5 #power production +=1\n",
      "p_rew=0.1"
     ],
     "language": "python",
     "metadata": {},
     "outputs": [],
     "prompt_number": 56
    },
    {
     "cell_type": "code",
     "collapsed": false,
     "input": [
      "G=nx.random_graphs.erdos_renyi_graph(nnodes, p_rew)"
     ],
     "language": "python",
     "metadata": {},
     "outputs": [],
     "prompt_number": 57
    },
    {
     "cell_type": "code",
     "collapsed": false,
     "input": [
      "P=np.ones(nnodes)*P_coeff\n",
      "P[np.random.choice(range(nnodes), size=nnodes/2, replace=False)]=-1*P_coeff #half of them are consumers"
     ],
     "language": "python",
     "metadata": {},
     "outputs": [],
     "prompt_number": 58
    },
    {
     "cell_type": "code",
     "collapsed": false,
     "input": [
      "assert(P.sum()==0)  #power needs to be balanced, otherwise no steady state"
     ],
     "language": "python",
     "metadata": {},
     "outputs": [],
     "prompt_number": 59
    },
    {
     "cell_type": "code",
     "collapsed": false,
     "input": [
      "M=np.array(nx.incidence_matrix(G, oriented=1))"
     ],
     "language": "python",
     "metadata": {},
     "outputs": [],
     "prompt_number": 60
    },
    {
     "cell_type": "markdown",
     "metadata": {},
     "source": [
      "##Let's simulate"
     ]
    },
    {
     "cell_type": "code",
     "collapsed": false,
     "input": [
      "from scipy.integrate import odeint\n",
      "reload(kuramoto)"
     ],
     "language": "python",
     "metadata": {},
     "outputs": [
      {
       "metadata": {},
       "output_type": "pyout",
       "prompt_number": 67,
       "text": [
        "<module 'kuramoto' from 'kuramoto.py'>"
       ]
      }
     ],
     "prompt_number": 67
    },
    {
     "cell_type": "code",
     "collapsed": false,
     "input": [
      "M.shape"
     ],
     "language": "python",
     "metadata": {},
     "outputs": [
      {
       "metadata": {},
       "output_type": "pyout",
       "prompt_number": 68,
       "text": [
        "(10, 10)"
       ]
      }
     ],
     "prompt_number": 68
    },
    {
     "cell_type": "code",
     "collapsed": false,
     "input": [
      "t_arr=np.arange(0,large_time,0.1)\n",
      "initguess=np.random.uniform(0,np.pi/2, nnodes)\n",
      "large_time=10*np.sqrt(2.0/np.max(P))\n",
      "sol=odeint(kuramoto.kuramoto_ode, initguess, t=t_arr, args=(M,M,P))"
     ],
     "language": "python",
     "metadata": {},
     "outputs": [],
     "prompt_number": 69
    },
    {
     "cell_type": "code",
     "collapsed": false,
     "input": [
      "for nodeid in range(nnodes):\n",
      "    plt.plot(t_arr, sol[:,nodeid])"
     ],
     "language": "python",
     "metadata": {},
     "outputs": [
      {
       "metadata": {},
       "output_type": "display_data",
       "png": "[encoded data removed]",
       "text": [
        "<matplotlib.figure.Figure at 0x7f5a2fa1b050>"
       ]
      }
     ],
     "prompt_number": 64
    },
    {
     "cell_type": "code",
     "collapsed": false,
     "input": [
      "reload(kuramoto)"
     ],
     "language": "python",
     "metadata": {},
     "outputs": [
      {
       "metadata": {},
       "output_type": "pyout",
       "prompt_number": 85,
       "text": [
        "<module 'kuramoto' from 'kuramoto.py'>"
       ]
      }
     ],
     "prompt_number": 85
    },
    {
     "cell_type": "code",
     "collapsed": false,
     "input": [
      "kuramoto.try_find_fps(10,M,M,P)"
     ],
     "language": "python",
     "metadata": {},
     "outputs": [
      {
       "metadata": {},
       "output_type": "pyout",
       "prompt_number": 86,
       "text": [
        "(array([ 0.5722445 ,  1.16466411,  1.28969451,  0.5926801 ,  0.41360243,\n",
        "         0.48781815,  1.52732536,  1.29669813,  1.54409235,  0.71352498]),\n",
        " array([ 0.58225843,  0.8367851 ,  0.97870788,  1.36064102,  0.97909288,\n",
        "         0.70949298,  1.36048556,  1.23320155,  0.45576365,  1.10591559]))"
       ]
      }
     ],
     "prompt_number": 86
    },
    {
     "cell_type": "code",
     "collapsed": false,
     "input": [],
     "language": "python",
     "metadata": {},
     "outputs": []
    }
   ],
   "metadata": {}
  }
 ]
}